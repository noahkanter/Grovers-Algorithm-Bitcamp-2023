{
 "cells": [
  {
   "cell_type": "code",
   "execution_count": 1,
   "id": "323ae517-6254-492a-b7ed-91a7c11010c1",
   "metadata": {},
   "outputs": [],
   "source": [
    "# Importing standard Qiskit libraries\n",
    "from qiskit import QuantumCircuit, transpile\n",
    "from qiskit.tools.jupyter import *\n",
    "from qiskit.visualization import *\n",
    "from ibm_quantum_widgets import *\n",
    "from qiskit_aer import AerSimulator\n",
    "\n",
    "# qiskit-ibmq-provider has been deprecated.\n",
    "# Please see the Migration Guides in https://ibm.biz/provider_migration_guide for more detail.\n",
    "from qiskit_ibm_runtime import QiskitRuntimeService, Sampler, Estimator, Session, Options\n",
    "\n",
    "# Loading your IBM Quantum account(s)\n",
    "service = QiskitRuntimeService(channel=\"ibm_quantum\")\n",
    "\n",
    "# Invoke a primitive inside a session. For more details see https://qiskit.org/documentation/partners/qiskit_ibm_runtime/tutorials.html\n",
    "# with Session(backend=service.backend(\"ibmq_qasm_simulator\")):\n",
    "#     result = Sampler().run(circuits).result()\n",
    "\n",
    "#initialization\n",
    "import matplotlib.pyplot as plt\n",
    "import numpy as np\n",
    "\n",
    "# importing Qiskit\n",
    "from qiskit import IBMQ, Aer, assemble, transpile\n",
    "from qiskit import QuantumCircuit, ClassicalRegister, QuantumRegister\n",
    "from qiskit.providers.ibmq import least_busy\n",
    "\n",
    "# import basic plot tools\n",
    "from qiskit.visualization import plot_histogram"
   ]
  },
  {
   "cell_type": "code",
   "execution_count": 2,
   "id": "1b9eafb0-2321-45d1-a022-d0115de7451c",
   "metadata": {
    "tags": []
   },
   "outputs": [],
   "source": [
    "# CODE SUMMARY AND EXPLANATION: this program colors regions on a graph 2 colors such that\n",
    "# no region of a given color is bordering a region of the same color. the following assumptions\n",
    "# are made: \n",
    "\n",
    "# 1. the regions are represented as a rectangle of width X units and height y units\n",
    "# where each region is a unit in the rectangle. ex if X = 3 and Y = 2 then there are 6 regions,\n",
    "# consisting of 3 across and 2 down. \n",
    "\n",
    "# 2. the color of a region (when the region is indexed from 0) is indicated by the binary value of the\n",
    "# corresponding qubit after measurement. ex: if qubit 1 has the value 1 then it is one color and if qubit 2\n",
    "# has value 0 then it is the other color.\n",
    "\n",
    "# 3. only perectly rectangular X by Y regions are considered valid. ex: a group of 7 regions where the first row\n",
    "# holds 4 regions and the second row has 3 regions is not rectangular and therefore invalid as it cannot be expressed\n",
    "# in terms of height and width.\n",
    "\n",
    "\n",
    "\n",
    "x = 2 # width of rectangle\n",
    "y = 2 # height of rectangle\n",
    "n = x * y\n",
    "var_qubits = QuantumRegister(n, name='v')\n",
    "clause_qubits = QuantumRegister(n-1, name='c')\n",
    "output_qubit = QuantumRegister(1, name='out')\n",
    "cbits = ClassicalRegister(n, name='cbits')\n",
    "circuit = QuantumCircuit(var_qubits, clause_qubits, output_qubit, cbits)"
   ]
  },
  {
   "cell_type": "code",
   "execution_count": 3,
   "id": "4b113f68-6c0a-4156-87bb-994b38cb14fe",
   "metadata": {
    "tags": []
   },
   "outputs": [],
   "source": [
    "def XOR(qc, a, b, output):\n",
    "    qc.cx(a, output)\n",
    "    qc.cx(b, output)"
   ]
  },
  {
   "cell_type": "code",
   "execution_count": 4,
   "id": "5cc5275b-dcda-45b9-a49b-10ec2b1b6847",
   "metadata": {
    "tags": []
   },
   "outputs": [],
   "source": [
    "def h_gates(qc, n):\n",
    "    for q in range(n):\n",
    "        qc.h(q)\n",
    "    \n",
    "    return qc"
   ]
  },
  {
   "cell_type": "code",
   "execution_count": 5,
   "id": "5a49ba3c-9266-4abb-8739-9c110bfbbbec",
   "metadata": {
    "tags": []
   },
   "outputs": [],
   "source": [
    "def diffuser(n):\n",
    "    qc = QuantumCircuit(n)\n",
    "    for qubit in range(n):\n",
    "        qc.h(qubit)\n",
    "    for qubit in range(n):\n",
    "        qc.x(qubit)\n",
    "    \n",
    "    # multi controlled z gate\n",
    "    qc.h(n-1)\n",
    "    qc.mct(list(range(n-1)), n-1)\n",
    "    qc.h(n-1)\n",
    "    \n",
    "    for qubit in range(n):\n",
    "        qc.x(qubit)\n",
    "    for qubit in range(n):\n",
    "        qc.h(qubit)\n",
    "    \n",
    "    # return diffuser as gate\n",
    "    D_i = qc.to_gate()\n",
    "    D_i.name = \"D$_i$\"\n",
    "    return D_i"
   ]
  },
  {
   "cell_type": "code",
   "execution_count": 6,
   "id": "a6465afa-7ec4-4ba3-b54b-f06c52c64f77",
   "metadata": {
    "tags": []
   },
   "outputs": [],
   "source": [
    "def oracle(n, clause_qubits):\n",
    "    var_qubits = QuantumRegister(n, name='v')\n",
    "    clause_qubits = QuantumRegister(n-1, name='c')\n",
    "    output_qubit = QuantumRegister(1, name='out')\n",
    "    qc = QuantumCircuit(var_qubits, clause_qubits, output_qubit)\n",
    "    if (x % 2 == 0): # even X\n",
    "        # compute clauses\n",
    "        i = 1\n",
    "        while i < n:\n",
    "            if (i % x != 0):\n",
    "                XOR(qc, i-1, i, clause_qubits[i-1])\n",
    "            else:\n",
    "                XOR(qc, i-x, i, clause_qubits[i-1])\n",
    "            i=i+1\n",
    "        \n",
    "        # flip output if all clauses satisfied\n",
    "        qc.mct(clause_qubits, output_qubit)\n",
    "        \n",
    "        # uncompute clauses\n",
    "        i = 1\n",
    "        while i < n:\n",
    "            if (i % x != 0):\n",
    "                XOR(qc, i-1, i, clause_qubits[i-1])\n",
    "            else:\n",
    "                XOR(qc, i-x, i, clause_qubits[i-1])\n",
    "            i=i+1\n",
    "    \n",
    "    else: # odd X\n",
    "        # compute clauses\n",
    "        i = 1\n",
    "        while i < n:\n",
    "            XOR(qc, i-1, i, clause_qubits[i-1])\n",
    "            i=i+1\n",
    "        \n",
    "        # flip output if all clauses satisfied\n",
    "        qc.mct(clause_qubits, output_qubit)\n",
    "        \n",
    "        # uncompute clauses\n",
    "        i = 1\n",
    "        while i < n:\n",
    "            XOR(qc, i-1, i, clause_qubits[i-1])\n",
    "            i=i+1\n",
    "    # return oracle as gate\n",
    "    O_i = qc.to_gate()\n",
    "    O_i.name = \"O$_i$\"\n",
    "    return O_i"
   ]
  },
  {
   "cell_type": "code",
   "execution_count": 7,
   "id": "f3e9ee51-c313-46cb-928d-434a00962813",
   "metadata": {
    "tags": []
   },
   "outputs": [
    {
     "data": {
      "image/png": "[encoded data removed]",
      "text/plain": [
       "<Figure size 1740.93x785.944 with 1 Axes>"
      ]
     },
     "execution_count": 7,
     "metadata": {},
     "output_type": "execute_result"
    }
   ],
   "source": [
    "circuit = h_gates(circuit, n)\n",
    "for i in range(int(np.ceil((2**n)**(2/3)))):\n",
    "    circuit.append(oracle(n, clause_qubits), np.arange(0, 2*n, 1).tolist())\n",
    "    circuit.append(diffuser(n), np.arange(0, n, 1).tolist())\n",
    "circuit.measure(var_qubits, cbits)\n",
    "circuit.draw()"
   ]
  },
  {
   "cell_type": "code",
   "execution_count": 8,
   "id": "f92f6562-f217-4390-924b-073fe91c90f7",
   "metadata": {},
   "outputs": [
    {
     "data": {
      "image/png": "[encoded data removed]",
      "text/plain": [
       "<Figure size 700x500 with 1 Axes>"
      ]
     },
     "execution_count": 8,
     "metadata": {},
     "output_type": "execute_result"
    }
   ],
   "source": [
    "aer_simulator = Aer.get_backend('aer_simulator')\n",
    "transpiled_qc = transpile(circuit, aer_simulator)\n",
    "result = aer_simulator.run(transpiled_qc).result()\n",
    "plot_histogram(result.get_counts())"
   ]
  },
  {
   "cell_type": "code",
   "execution_count": null,
   "id": "44f7c31f-082c-43c1-8c34-057d4de1b33d",
   "metadata": {},
   "outputs": [],
   "source": []
  }
 ],
 "metadata": {
  "kernelspec": {
   "display_name": "Python 3 (ipykernel)",
   "language": "python",
   "name": "python3"
  },
  "language_info": {
   "codemirror_mode": {
    "name": "ipython",
    "version": 3
   },
   "file_extension": ".py",
   "mimetype": "text/x-python",
   "name": "python",
   "nbconvert_exporter": "python",
   "pygments_lexer": "ipython3",
   "version": "3.10.8"
  },
  "widgets": {
   "application/vnd.jupyter.widget-state+json": {
    "state": {
     "2119d57c9b8a42baa3445503db3529b0": {
      "model_module": "@jupyter-widgets/controls",
      "model_module_version": "2.0.0",
      "model_name": "HTMLStyleModel",
      "state": {
       "description_width": "",
       "font_size": null,
       "text_color": null
      }
     },
     "3fc24ddf5ce74388a882ea6038ff70cc": {
      "model_module": "@jupyter-widgets/controls",
      "model_module_version": "2.0.0",
      "model_name": "ButtonModel",
      "state": {
       "button_style": "primary",
       "description": "Clear",
       "layout": "IPY_MODEL_dcdff7d43b744322a3e029717758b552",
       "style": "IPY_MODEL_f91735fc6d9143af9f096f4c64cf1122",
       "tooltip": null
      }
     },
     "3fc8619d03764b0bb908a88a388a4d96": {
      "model_module": "@jupyter-widgets/controls",
      "model_module_version": "2.0.0",
      "model_name": "HTMLModel",
      "state": {
       "layout": "IPY_MODEL_bced00f71c174a269872a69496bc34fb",
       "style": "IPY_MODEL_cf60b4f1cfb1453f9bf1416d05b2b8d6",
       "value": "<h5>Status</h5>"
      }
     },
     "4718f82a7c5743bd8a445ee38fc71fd7": {
      "model_module": "@jupyter-widgets/base",
      "model_module_version": "2.0.0",
      "model_name": "LayoutModel",
      "state": {
       "width": "70px"
      }
     },
     "47b0d7fa3f7a4dbdbe8f64a3ebe85796": {
      "model_module": "@jupyter-widgets/controls",
      "model_module_version": "2.0.0",
      "model_name": "HTMLModel",
      "state": {
       "layout": "IPY_MODEL_ac91b4e7fa444f909e71c12ef0573475",
       "style": "IPY_MODEL_64cb99a27a9340b0b8a8ecdc900c8f70",
       "value": "<h5>Backend</h5>"
      }
     },
     "5695efecc1344de98ce13e83a84e88f0": {
      "model_module": "@jupyter-widgets/base",
      "model_module_version": "2.0.0",
      "model_name": "LayoutModel",
      "state": {
       "grid_template_areas": "\n                                       \". . . . right \"\n                                        ",
       "grid_template_columns": "20% 20% 20% 20% 20%",
       "width": "100%"
      }
     },
     "59d2a20574294cd19cd4f9204315d01c": {
      "model_module": "@jupyter-widgets/controls",
      "model_module_version": "2.0.0",
      "model_name": "HTMLStyleModel",
      "state": {
       "description_width": "",
       "font_size": null,
       "text_color": null
      }
     },
     "64cb99a27a9340b0b8a8ecdc900c8f70": {
      "model_module": "@jupyter-widgets/controls",
      "model_module_version": "2.0.0",
      "model_name": "HTMLStyleModel",
      "state": {
       "description_width": "",
       "font_size": null,
       "text_color": null
      }
     },
     "6e5961c0f28c4a96ad1befd7164df1cf": {
      "model_module": "@jupyter-widgets/controls",
      "model_module_version": "2.0.0",
      "model_name": "HTMLStyleModel",
      "state": {
       "description_width": "",
       "font_size": null,
       "text_color": null
      }
     },
     "6f13403017304b49b9c20b7f9bdd8991": {
      "model_module": "@jupyter-widgets/base",
      "model_module_version": "2.0.0",
      "model_name": "LayoutModel",
      "state": {
       "margin": "0px 0px 10px 0px"
      }
     },
     "72b072b269fe4410842070916255d311": {
      "model_module": "@jupyter-widgets/controls",
      "model_module_version": "2.0.0",
      "model_name": "HTMLModel",
      "state": {
       "layout": "IPY_MODEL_73daa6d2eacb46f3af697232e3f88547",
       "style": "IPY_MODEL_2119d57c9b8a42baa3445503db3529b0",
       "value": "<h5>Job ID</h5>"
      }
     },
     "73daa6d2eacb46f3af697232e3f88547": {
      "model_module": "@jupyter-widgets/base",
      "model_module_version": "2.0.0",
      "model_name": "LayoutModel",
      "state": {
       "width": "190px"
      }
     },
     "8e4715563d7c45308ab52cfffc135a98": {
      "model_module": "@jupyter-widgets/controls",
      "model_module_version": "2.0.0",
      "model_name": "HTMLStyleModel",
      "state": {
       "description_width": "",
       "font_size": null,
       "text_color": null
      }
     },
     "ac91b4e7fa444f909e71c12ef0573475": {
      "model_module": "@jupyter-widgets/base",
      "model_module_version": "2.0.0",
      "model_name": "LayoutModel",
      "state": {
       "width": "145px"
      }
     },
     "ae6ebdb991e9427380f6ac4eda21eef7": {
      "model_module": "@jupyter-widgets/controls",
      "model_module_version": "2.0.0",
      "model_name": "GridBoxModel",
      "state": {
       "children": [
        "IPY_MODEL_3fc24ddf5ce74388a882ea6038ff70cc"
       ],
       "layout": "IPY_MODEL_5695efecc1344de98ce13e83a84e88f0"
      }
     },
     "af6dda87df9245ef9f05cf69c05d7f3d": {
      "model_module": "@jupyter-widgets/controls",
      "model_module_version": "2.0.0",
      "model_name": "HBoxModel",
      "state": {
       "children": [
        "IPY_MODEL_72b072b269fe4410842070916255d311",
        "IPY_MODEL_47b0d7fa3f7a4dbdbe8f64a3ebe85796",
        "IPY_MODEL_3fc8619d03764b0bb908a88a388a4d96",
        "IPY_MODEL_ce57f45bb7f54f75847d288906a0e792",
        "IPY_MODEL_dc05f63c12b243438e90f43a1015cc05"
       ],
       "layout": "IPY_MODEL_f543cc392cbd454591f07b0b5921fd32"
      }
     },
     "bced00f71c174a269872a69496bc34fb": {
      "model_module": "@jupyter-widgets/base",
      "model_module_version": "2.0.0",
      "model_name": "LayoutModel",
      "state": {
       "width": "95px"
      }
     },
     "ce57f45bb7f54f75847d288906a0e792": {
      "model_module": "@jupyter-widgets/controls",
      "model_module_version": "2.0.0",
      "model_name": "HTMLModel",
      "state": {
       "layout": "IPY_MODEL_4718f82a7c5743bd8a445ee38fc71fd7",
       "style": "IPY_MODEL_6e5961c0f28c4a96ad1befd7164df1cf",
       "value": "<h5>Queue</h5>"
      }
     },
     "cf60b4f1cfb1453f9bf1416d05b2b8d6": {
      "model_module": "@jupyter-widgets/controls",
      "model_module_version": "2.0.0",
      "model_name": "HTMLStyleModel",
      "state": {
       "description_width": "",
       "font_size": null,
       "text_color": null
      }
     },
     "dc05f63c12b243438e90f43a1015cc05": {
      "model_module": "@jupyter-widgets/controls",
      "model_module_version": "2.0.0",
      "model_name": "HTMLModel",
      "state": {
       "layout": "IPY_MODEL_ec9b10fb27df46f38425944133f68dbf",
       "style": "IPY_MODEL_8e4715563d7c45308ab52cfffc135a98",
       "value": "<h5>Message</h5>"
      }
     },
     "dcdff7d43b744322a3e029717758b552": {
      "model_module": "@jupyter-widgets/base",
      "model_module_version": "2.0.0",
      "model_name": "LayoutModel",
      "state": {
       "grid_area": "right",
       "padding": "0px 0px 0px 0px",
       "width": "70px"
      }
     },
     "e0221daaf80b4795b99dfb0c4aa9d0d5": {
      "model_module": "@jupyter-widgets/controls",
      "model_module_version": "2.0.0",
      "model_name": "HTMLModel",
      "state": {
       "layout": "IPY_MODEL_6f13403017304b49b9c20b7f9bdd8991",
       "style": "IPY_MODEL_59d2a20574294cd19cd4f9204315d01c",
       "value": "<p style='font-family: IBM Plex Sans, Arial, Helvetica, sans-serif; font-size: 20px; font-weight: medium;'>Circuit Properties</p>"
      }
     },
     "ec9b10fb27df46f38425944133f68dbf": {
      "model_module": "@jupyter-widgets/base",
      "model_module_version": "2.0.0",
      "model_name": "LayoutModel",
      "state": {}
     },
     "f543cc392cbd454591f07b0b5921fd32": {
      "model_module": "@jupyter-widgets/base",
      "model_module_version": "2.0.0",
      "model_name": "LayoutModel",
      "state": {
       "margin": "0px 0px 0px 37px",
       "width": "600px"
      }
     },
     "f91735fc6d9143af9f096f4c64cf1122": {
      "model_module": "@jupyter-widgets/controls",
      "model_module_version": "2.0.0",
      "model_name": "ButtonStyleModel",
      "state": {
       "font_family": null,
       "font_size": null,
       "font_style": null,
       "font_variant": null,
       "font_weight": null,
       "text_color": null,
       "text_decoration": null
      }
     }
    },
    "version_major": 2,
    "version_minor": 0
   }
  }
 },
 "nbformat": 4,
 "nbformat_minor": 5
}

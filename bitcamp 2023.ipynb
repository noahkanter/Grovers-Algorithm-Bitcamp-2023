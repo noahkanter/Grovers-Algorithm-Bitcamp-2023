{
 "cells": [
  {
   "cell_type": "code",
   "execution_count": 1,
   "id": "323ae517-6254-492a-b7ed-91a7c11010c1",
   "metadata": {},
   "outputs": [],
   "source": [
    "# Importing standard Qiskit libraries\n",
    "from qiskit import QuantumCircuit, transpile\n",
    "from qiskit.tools.jupyter import *\n",
    "from qiskit.visualization import *\n",
    "from ibm_quantum_widgets import *\n",
    "from qiskit_aer import AerSimulator\n",
    "\n",
    "# qiskit-ibmq-provider has been deprecated.\n",
    "# Please see the Migration Guides in https://ibm.biz/provider_migration_guide for more detail.\n",
    "from qiskit_ibm_runtime import QiskitRuntimeService, Sampler, Estimator, Session, Options\n",
    "\n",
    "# Loading your IBM Quantum account(s)\n",
    "service = QiskitRuntimeService(channel=\"ibm_quantum\")\n",
    "\n",
    "# Invoke a primitive inside a session. For more details see https://qiskit.org/documentation/partners/qiskit_ibm_runtime/tutorials.html\n",
    "# with Session(backend=service.backend(\"ibmq_qasm_simulator\")):\n",
    "#     result = Sampler().run(circuits).result()\n",
    "\n",
    "#initialization\n",
    "import matplotlib.pyplot as plt\n",
    "import numpy as np\n",
    "\n",
    "# importing Qiskit\n",
    "from qiskit import IBMQ, Aer, assemble, transpile\n",
    "from qiskit import QuantumCircuit, ClassicalRegister, QuantumRegister\n",
    "from qiskit.providers.ibmq import least_busy\n",
    "\n",
    "# import basic plot tools\n",
    "from qiskit.visualization import plot_histogram"
   ]
  },
  {
   "cell_type": "code",
   "execution_count": 18,
   "id": "1b9eafb0-2321-45d1-a022-d0115de7451c",
   "metadata": {
    "tags": []
   },
   "outputs": [],
   "source": [
    "# CODE SUMMARY AND EXPLANATION: this program colors regions on a graph 2 colors such that\n",
    "# no region of a given color is bordering a region of the same color. the following assumptions\n",
    "# are made: \n",
    "\n",
    "# 1. the regions are represented as a rectangle of width X units and height y units\n",
    "# where each region is a unit in the rectangle. ex if X = 3 and Y = 2 then there are 6 regions,\n",
    "# consisting of 3 across and 2 down. \n",
    "\n",
    "# 2. the color of a region (when the region is indexed from 0) is indicated by the binary value of the\n",
    "# corresponding qubit after measurement. ex: if qubit 1 has the value 1 then it is one color and if qubit 2\n",
    "# has value 0 then it is the other color.\n",
    "\n",
    "# 3. only perectly rectangular X by Y regions are considered valid. ex: a group of 7 regions where the first row\n",
    "# holds 4 regions and the second row has 3 regions is not rectangular and therefore invalid as it cannot be expressed\n",
    "# in terms of height and width.\n",
    "\n",
    "\n",
    "\n",
    "x = 3 # width of rectangle\n",
    "y = 1 # height of rectangle\n",
    "n = x * y\n",
    "var_qubits = QuantumRegister(n, name='v')\n",
    "clause_qubits = QuantumRegister(n-1, name='c')\n",
    "output_qubit = QuantumRegister(1, name='out')\n",
    "cbits = ClassicalRegister(n, name='cbits')\n",
    "circuit = QuantumCircuit(var_qubits, clause_qubits, output_qubit, cbits)"
   ]
  },
  {
   "cell_type": "code",
   "execution_count": 19,
   "id": "4b113f68-6c0a-4156-87bb-994b38cb14fe",
   "metadata": {
    "tags": []
   },
   "outputs": [],
   "source": [
    "def XOR(qc, a, b, output):\n",
    "    qc.cx(a, output)\n",
    "    qc.cx(b, output)"
   ]
  },
  {
   "cell_type": "code",
   "execution_count": 20,
   "id": "5cc5275b-dcda-45b9-a49b-10ec2b1b6847",
   "metadata": {
    "tags": []
   },
   "outputs": [],
   "source": [
    "def h_gates(qc, n):\n",
    "    for q in range(n):\n",
    "        qc.h(q)\n",
    "    \n",
    "    return qc"
   ]
  },
  {
   "cell_type": "code",
   "execution_count": 21,
   "id": "5a49ba3c-9266-4abb-8739-9c110bfbbbec",
   "metadata": {
    "tags": []
   },
   "outputs": [],
   "source": [
    "def diffuser(n):\n",
    "    qc = QuantumCircuit(n)\n",
    "    for qubit in range(n):\n",
    "        qc.h(qubit)\n",
    "    for qubit in range(n):\n",
    "        qc.x(qubit)\n",
    "    \n",
    "    # multi controlled z gate\n",
    "    qc.h(n-1)\n",
    "    qc.mct(list(range(n-1)), n-1)\n",
    "    qc.h(n-1)\n",
    "    \n",
    "    for qubit in range(n):\n",
    "        qc.x(qubit)\n",
    "    for qubit in range(n):\n",
    "        qc.h(qubit)\n",
    "    \n",
    "    # return diffuser as gate\n",
    "    D_i = qc.to_gate()\n",
    "    D_i.name = \"D$_i$\"\n",
    "    return D_i"
   ]
  },
  {
   "cell_type": "code",
   "execution_count": 22,
   "id": "a6465afa-7ec4-4ba3-b54b-f06c52c64f77",
   "metadata": {
    "tags": []
   },
   "outputs": [],
   "source": [
    "def oracle(n, clause_qubits):\n",
    "    var_qubits = QuantumRegister(n, name='v')\n",
    "    clause_qubits = QuantumRegister(n-1, name='c')\n",
    "    output_qubit = QuantumRegister(1, name='out')\n",
    "    qc = QuantumCircuit(var_qubits, clause_qubits, output_qubit)\n",
    "    if (x % 2 == 0): # even X\n",
    "        # compute clauses\n",
    "        i = 1\n",
    "        while i < n:\n",
    "            if (i % x != 0):\n",
    "                XOR(qc, i-1, i, clause_qubits[i-1])\n",
    "            else:\n",
    "                XOR(qc, i-x, i, clause_qubits[i-1])\n",
    "            i=i+1\n",
    "        \n",
    "        # flip output if all clauses satisfied\n",
    "        qc.mct(clause_qubits, output_qubit)\n",
    "        \n",
    "        # uncompute clauses\n",
    "        i = 1\n",
    "        while i < n:\n",
    "            if (i % x != 0):\n",
    "                XOR(qc, i-1, i, clause_qubits[i-1])\n",
    "            else:\n",
    "                XOR(qc, i-x, i, clause_qubits[i-1])\n",
    "            i=i+1\n",
    "    \n",
    "    else: # odd X\n",
    "        # compute clauses\n",
    "        i = 1\n",
    "        while i < n:\n",
    "            XOR(qc, i-1, i, clause_qubits[i-1])\n",
    "            i=i+1\n",
    "        \n",
    "        # flip output if all clauses satisfied\n",
    "        qc.mct(clause_qubits, output_qubit)\n",
    "        \n",
    "        # uncompute clauses\n",
    "        i = 1\n",
    "        while i < n:\n",
    "            XOR(qc, i-1, i, clause_qubits[i-1])\n",
    "            i=i+1\n",
    "    # return oracle as gate\n",
    "    O_i = qc.to_gate()\n",
    "    O_i.name = \"O$_i$\"\n",
    "    return O_i"
   ]
  },
  {
   "cell_type": "code",
   "execution_count": 23,
   "id": "f3e9ee51-c313-46cb-928d-434a00962813",
   "metadata": {
    "tags": []
   },
   "outputs": [
    {
     "data": {
      "image/png": "[encoded data removed]",
      "text/plain": [
       "<Figure size 1155.66x618.722 with 1 Axes>"
      ]
     },
     "execution_count": 23,
     "metadata": {},
     "output_type": "execute_result"
    }
   ],
   "source": [
    "circuit = h_gates(circuit, n)\n",
    "for i in range(int(np.ceil((2**n)**(2/3)))):\n",
    "    circuit.append(oracle(n, clause_qubits), np.arange(0, 2*n, 1).tolist())\n",
    "    circuit.append(diffuser(n), np.arange(0, n, 1).tolist())\n",
    "circuit.measure(var_qubits, cbits)\n",
    "circuit.draw()"
   ]
  },
  {
   "cell_type": "code",
   "execution_count": 24,
   "id": "f92f6562-f217-4390-924b-073fe91c90f7",
   "metadata": {},
   "outputs": [
    {
     "data": {
      "image/png": "[encoded data removed]",
      "text/plain": [
       "<Figure size 700x500 with 1 Axes>"
      ]
     },
     "execution_count": 24,
     "metadata": {},
     "output_type": "execute_result"
    }
   ],
   "source": [
    "aer_simulator = Aer.get_backend('aer_simulator')\n",
    "transpiled_qc = transpile(circuit, aer_simulator)\n",
    "result = aer_simulator.run(transpiled_qc).result()\n",
    "plot_histogram(result.get_counts())"
   ]
  },
  {
   "cell_type": "code",
   "execution_count": null,
   "id": "44f7c31f-082c-43c1-8c34-057d4de1b33d",
   "metadata": {},
   "outputs": [],
   "source": []
  }
 ],
 "metadata": {
  "kernelspec": {
   "display_name": "Python 3 (ipykernel)",
   "language": "python",
   "name": "python3"
  },
  "language_info": {
   "codemirror_mode": {
    "name": "ipython",
    "version": 3
   },
   "file_extension": ".py",
   "mimetype": "text/x-python",
   "name": "python",
   "nbconvert_exporter": "python",
   "pygments_lexer": "ipython3",
   "version": "3.10.8"
  },
  "widgets": {
   "application/vnd.jupyter.widget-state+json": {
    "state": {
     "016d1cab9e88464b9361cd6d7a37e058": {
      "model_module": "@jupyter-widgets/controls",
      "model_module_version": "2.0.0",
      "model_name": "HTMLStyleModel",
      "state": {
       "description_width": "",
       "font_size": null,
       "text_color": null
      }
     },
     "094f7f858df646c0a4eb28ccdf665edb": {
      "model_module": "@jupyter-widgets/base",
      "model_module_version": "2.0.0",
      "model_name": "LayoutModel",
      "state": {
       "grid_template_areas": "\n                                       \". . . . right \"\n                                        ",
       "grid_template_columns": "20% 20% 20% 20% 20%",
       "width": "100%"
      }
     },
     "09ad61a019dc4963b36220bf5d72e232": {
      "model_module": "@jupyter-widgets/base",
      "model_module_version": "2.0.0",
      "model_name": "LayoutModel",
      "state": {
       "width": "145px"
      }
     },
     "10cc68350b834798b028746d9803ce43": {
      "model_module": "@jupyter-widgets/controls",
      "model_module_version": "2.0.0",
      "model_name": "HTMLModel",
      "state": {
       "layout": "IPY_MODEL_fa501dae537642869631741a57cc0e82",
       "style": "IPY_MODEL_82faed42c9dc4871ae0933bb17bf39bb",
       "value": "<h5>Job ID</h5>"
      }
     },
     "16e3b5a69c0b4ec49e541c313c7808d1": {
      "model_module": "@jupyter-widgets/base",
      "model_module_version": "2.0.0",
      "model_name": "LayoutModel",
      "state": {}
     },
     "2017e1f10f97400caad5f2124d999522": {
      "model_module": "@jupyter-widgets/controls",
      "model_module_version": "2.0.0",
      "model_name": "HTMLStyleModel",
      "state": {
       "description_width": "",
       "font_size": null,
       "text_color": null
      }
     },
     "2395785e69f64edd98d991ba5e8482ab": {
      "model_module": "@jupyter-widgets/base",
      "model_module_version": "2.0.0",
      "model_name": "LayoutModel",
      "state": {
       "grid_area": "right",
       "padding": "0px 0px 0px 0px",
       "width": "70px"
      }
     },
     "321c1b058362428eb82857243001eae6": {
      "model_module": "@jupyter-widgets/controls",
      "model_module_version": "2.0.0",
      "model_name": "GridBoxModel",
      "state": {
       "children": [
        "IPY_MODEL_f6e6e78e3c624b2296501773653fa5e9"
       ],
       "layout": "IPY_MODEL_094f7f858df646c0a4eb28ccdf665edb"
      }
     },
     "4828954d890d4f5fb3a66efd606e6277": {
      "model_module": "@jupyter-widgets/controls",
      "model_module_version": "2.0.0",
      "model_name": "HTMLModel",
      "state": {
       "layout": "IPY_MODEL_89aa3e74223f4580b5183ee10af4307c",
       "style": "IPY_MODEL_681de5ad80524f45a9ea1222c3881058",
       "value": "<p style='font-family: IBM Plex Sans, Arial, Helvetica, sans-serif; font-size: 20px; font-weight: medium;'>Circuit Properties</p>"
      }
     },
     "5da4c7350e9b4ff8b6d4b382c5c8dbe5": {
      "model_module": "@jupyter-widgets/controls",
      "model_module_version": "2.0.0",
      "model_name": "HTMLModel",
      "state": {
       "layout": "IPY_MODEL_09ad61a019dc4963b36220bf5d72e232",
       "style": "IPY_MODEL_2017e1f10f97400caad5f2124d999522",
       "value": "<h5>Backend</h5>"
      }
     },
     "681de5ad80524f45a9ea1222c3881058": {
      "model_module": "@jupyter-widgets/controls",
      "model_module_version": "2.0.0",
      "model_name": "HTMLStyleModel",
      "state": {
       "description_width": "",
       "font_size": null,
       "text_color": null
      }
     },
     "7c2c2ca21f174e55b9984a5d2d8de430": {
      "model_module": "@jupyter-widgets/base",
      "model_module_version": "2.0.0",
      "model_name": "LayoutModel",
      "state": {
       "width": "70px"
      }
     },
     "82faed42c9dc4871ae0933bb17bf39bb": {
      "model_module": "@jupyter-widgets/controls",
      "model_module_version": "2.0.0",
      "model_name": "HTMLStyleModel",
      "state": {
       "description_width": "",
       "font_size": null,
       "text_color": null
      }
     },
     "88936fe21fc54c29a3db04969b26f41b": {
      "model_module": "@jupyter-widgets/controls",
      "model_module_version": "2.0.0",
      "model_name": "HTMLModel",
      "state": {
       "layout": "IPY_MODEL_c44d86e210d74f91bbb121269e2f30c8",
       "style": "IPY_MODEL_016d1cab9e88464b9361cd6d7a37e058",
       "value": "<h5>Status</h5>"
      }
     },
     "89aa3e74223f4580b5183ee10af4307c": {
      "model_module": "@jupyter-widgets/base",
      "model_module_version": "2.0.0",
      "model_name": "LayoutModel",
      "state": {
       "margin": "0px 0px 10px 0px"
      }
     },
     "9a6e551ec0d84d5eba1aaaf1e3c34fc0": {
      "model_module": "@jupyter-widgets/controls",
      "model_module_version": "2.0.0",
      "model_name": "HTMLStyleModel",
      "state": {
       "description_width": "",
       "font_size": null,
       "text_color": null
      }
     },
     "b30cc742de5647d88e3f652bb82f890e": {
      "model_module": "@jupyter-widgets/controls",
      "model_module_version": "2.0.0",
      "model_name": "HTMLStyleModel",
      "state": {
       "description_width": "",
       "font_size": null,
       "text_color": null
      }
     },
     "c21f4c2132884bcd9b61f88784d37ca9": {
      "model_module": "@jupyter-widgets/controls",
      "model_module_version": "2.0.0",
      "model_name": "ButtonStyleModel",
      "state": {
       "font_family": null,
       "font_size": null,
       "font_style": null,
       "font_variant": null,
       "font_weight": null,
       "text_color": null,
       "text_decoration": null
      }
     },
     "c44d86e210d74f91bbb121269e2f30c8": {
      "model_module": "@jupyter-widgets/base",
      "model_module_version": "2.0.0",
      "model_name": "LayoutModel",
      "state": {
       "width": "95px"
      }
     },
     "cc31bf9b035742fd9ec1f76495c2d014": {
      "model_module": "@jupyter-widgets/base",
      "model_module_version": "2.0.0",
      "model_name": "LayoutModel",
      "state": {
       "margin": "0px 0px 0px 37px",
       "width": "600px"
      }
     },
     "f2b1028823414b48a9f41cf3ccf50477": {
      "model_module": "@jupyter-widgets/controls",
      "model_module_version": "2.0.0",
      "model_name": "HTMLModel",
      "state": {
       "layout": "IPY_MODEL_16e3b5a69c0b4ec49e541c313c7808d1",
       "style": "IPY_MODEL_9a6e551ec0d84d5eba1aaaf1e3c34fc0",
       "value": "<h5>Message</h5>"
      }
     },
     "f6e6e78e3c624b2296501773653fa5e9": {
      "model_module": "@jupyter-widgets/controls",
      "model_module_version": "2.0.0",
      "model_name": "ButtonModel",
      "state": {
       "button_style": "primary",
       "description": "Clear",
       "layout": "IPY_MODEL_2395785e69f64edd98d991ba5e8482ab",
       "style": "IPY_MODEL_c21f4c2132884bcd9b61f88784d37ca9",
       "tooltip": null
      }
     },
     "f7a86c598562422d9aa88cec2341d787": {
      "model_module": "@jupyter-widgets/controls",
      "model_module_version": "2.0.0",
      "model_name": "HBoxModel",
      "state": {
       "children": [
        "IPY_MODEL_10cc68350b834798b028746d9803ce43",
        "IPY_MODEL_5da4c7350e9b4ff8b6d4b382c5c8dbe5",
        "IPY_MODEL_88936fe21fc54c29a3db04969b26f41b",
        "IPY_MODEL_fb0614efb8684348a495a5169fbeccd7",
        "IPY_MODEL_f2b1028823414b48a9f41cf3ccf50477"
       ],
       "layout": "IPY_MODEL_cc31bf9b035742fd9ec1f76495c2d014"
      }
     },
     "fa501dae537642869631741a57cc0e82": {
      "model_module": "@jupyter-widgets/base",
      "model_module_version": "2.0.0",
      "model_name": "LayoutModel",
      "state": {
       "width": "190px"
      }
     },
     "fb0614efb8684348a495a5169fbeccd7": {
      "model_module": "@jupyter-widgets/controls",
      "model_module_version": "2.0.0",
      "model_name": "HTMLModel",
      "state": {
       "layout": "IPY_MODEL_7c2c2ca21f174e55b9984a5d2d8de430",
       "style": "IPY_MODEL_b30cc742de5647d88e3f652bb82f890e",
       "value": "<h5>Queue</h5>"
      }
     }
    },
    "version_major": 2,
    "version_minor": 0
   }
  }
 },
 "nbformat": 4,
 "nbformat_minor": 5
}
